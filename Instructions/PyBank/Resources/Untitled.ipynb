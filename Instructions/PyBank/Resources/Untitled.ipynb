{
 "cells": [
  {
   "cell_type": "code",
   "execution_count": 8,
   "id": "b94d9bca-7a4d-48c6-b51d-3a70fca1af1f",
   "metadata": {},
   "outputs": [],
   "source": [
    "file = \"C:\\\\Users\\\\E7470\\\\Downloads\\\\Trilogy_Cohort_Gitlabs\\\\utsa-san-data-pt-09-2021-u-c\\\\00_Homework_Assignments_Instructions\\\\02_HW_3\\\\Instructions\\\\PyBank\\\\Resources\\\\budget_data.csv\""
   ]
  },
  {
   "cell_type": "code",
   "execution_count": 63,
   "id": "6c1ca617-fa02-4a1e-874a-6858d009d860",
   "metadata": {},
   "outputs": [],
   "source": [
    "import os\n",
    "import pandas as pd\n",
    "import statistics as s"
   ]
  },
  {
   "cell_type": "code",
   "execution_count": 10,
   "id": "f835ad71-e356-4447-aa0c-b76eb0ddbc29",
   "metadata": {},
   "outputs": [
    {
     "data": {
      "text/html": [
       "<div>\n",
       "<style scoped>\n",
       "    .dataframe tbody tr th:only-of-type {\n",
       "        vertical-align: middle;\n",
       "    }\n",
       "\n",
       "    .dataframe tbody tr th {\n",
       "        vertical-align: top;\n",
       "    }\n",
       "\n",
       "    .dataframe thead th {\n",
       "        text-align: right;\n",
       "    }\n",
       "</style>\n",
       "<table border=\"1\" class=\"dataframe\">\n",
       "  <thead>\n",
       "    <tr style=\"text-align: right;\">\n",
       "      <th></th>\n",
       "      <th>Date</th>\n",
       "      <th>Profit/Losses</th>\n",
       "    </tr>\n",
       "  </thead>\n",
       "  <tbody>\n",
       "    <tr>\n",
       "      <th>0</th>\n",
       "      <td>Jan-2010</td>\n",
       "      <td>867884</td>\n",
       "    </tr>\n",
       "    <tr>\n",
       "      <th>1</th>\n",
       "      <td>Feb-2010</td>\n",
       "      <td>984655</td>\n",
       "    </tr>\n",
       "    <tr>\n",
       "      <th>2</th>\n",
       "      <td>Mar-2010</td>\n",
       "      <td>322013</td>\n",
       "    </tr>\n",
       "    <tr>\n",
       "      <th>3</th>\n",
       "      <td>Apr-2010</td>\n",
       "      <td>-69417</td>\n",
       "    </tr>\n",
       "    <tr>\n",
       "      <th>4</th>\n",
       "      <td>May-2010</td>\n",
       "      <td>310503</td>\n",
       "    </tr>\n",
       "  </tbody>\n",
       "</table>\n",
       "</div>"
      ],
      "text/plain": [
       "       Date  Profit/Losses\n",
       "0  Jan-2010         867884\n",
       "1  Feb-2010         984655\n",
       "2  Mar-2010         322013\n",
       "3  Apr-2010         -69417\n",
       "4  May-2010         310503"
      ]
     },
     "execution_count": 10,
     "metadata": {},
     "output_type": "execute_result"
    }
   ],
   "source": [
    "df=pd.read_csv(file)\n",
    "df.head()"
   ]
  },
  {
   "cell_type": "code",
   "execution_count": 13,
   "id": "580f9c9b-7a8b-413a-8bff-c7ce8a79cba8",
   "metadata": {},
   "outputs": [
    {
     "data": {
      "text/plain": [
       "86"
      ]
     },
     "execution_count": 13,
     "metadata": {},
     "output_type": "execute_result"
    }
   ],
   "source": [
    "total_months = len(df)\n",
    "total_months"
   ]
  },
  {
   "cell_type": "code",
   "execution_count": 14,
   "id": "93124a65-d74a-4a4d-8fdb-3346f7e3eb86",
   "metadata": {},
   "outputs": [
    {
     "data": {
      "text/plain": [
       "(86, 2)"
      ]
     },
     "execution_count": 14,
     "metadata": {},
     "output_type": "execute_result"
    }
   ],
   "source": [
    "df.shape"
   ]
  },
  {
   "cell_type": "code",
   "execution_count": 15,
   "id": "b40c2cef-a1bb-45ad-abd8-0cb9a76320ee",
   "metadata": {},
   "outputs": [
    {
     "name": "stdout",
     "output_type": "stream",
     "text": [
      "This is what I found, 86 for my total months\n"
     ]
    }
   ],
   "source": [
    "print(f'This is what I found, {total_months} for my total months')"
   ]
  },
  {
   "cell_type": "code",
   "execution_count": 19,
   "id": "4fd38def-4ef7-4a81-b26b-8989df7a761b",
   "metadata": {},
   "outputs": [
    {
     "data": {
      "text/plain": [
       "38382578"
      ]
     },
     "execution_count": 19,
     "metadata": {},
     "output_type": "execute_result"
    }
   ],
   "source": [
    "sumOfProfitLoss = df[\"Profit/Losses\"].sum()\n",
    "sumOfProfitLoss"
   ]
  },
  {
   "cell_type": "code",
   "execution_count": 45,
   "id": "f230fe2a-46ad-482f-80e1-c3a09f2b3faf",
   "metadata": {},
   "outputs": [
    {
     "name": "stdout",
     "output_type": "stream",
     "text": [
      "<class 'pandas.core.frame.DataFrame'>\n",
      "RangeIndex: 86 entries, 0 to 85\n",
      "Data columns (total 2 columns):\n",
      " #   Column         Non-Null Count  Dtype \n",
      "---  ------         --------------  ----- \n",
      " 0   Date           86 non-null     object\n",
      " 1   Profit/Losses  86 non-null     int64 \n",
      "dtypes: int64(1), object(1)\n",
      "memory usage: 1.5+ KB\n"
     ]
    }
   ],
   "source": [
    "df.info()"
   ]
  },
  {
   "cell_type": "code",
   "execution_count": 67,
   "id": "4814a739-8a2d-4b59-94e9-eec3d63647db",
   "metadata": {},
   "outputs": [],
   "source": [
    "mylist = [0]\n",
    "\n",
    "for x in range (1, len(df)):\n",
    "    row_above = df[\"Profit/Losses\"][x-1]\n",
    "    current_row = df[\"Profit/Losses\"][x]\n",
    "    equation = current_row - row_above\n",
    "    mylist.append(equation)\n",
    "    #print(f'aboveRow {row_above} and currentRow {current_row} and the difference is {equation}')\n"
   ]
  },
  {
   "cell_type": "code",
   "execution_count": 68,
   "id": "4fbbecd0-5ec0-46c0-aabf-822ffe77fe27",
   "metadata": {},
   "outputs": [
    {
     "data": {
      "text/plain": [
       "-2196167"
      ]
     },
     "execution_count": 68,
     "metadata": {},
     "output_type": "execute_result"
    }
   ],
   "source": [
    "min_pnl = min(mylist)\n",
    "min_pnl"
   ]
  },
  {
   "cell_type": "code",
   "execution_count": 69,
   "id": "358d4908-0821-4a0c-8b8f-0c29d21243ef",
   "metadata": {},
   "outputs": [
    {
     "data": {
      "text/plain": [
       "1926159"
      ]
     },
     "execution_count": 69,
     "metadata": {},
     "output_type": "execute_result"
    }
   ],
   "source": [
    "max_pnl = max(mylist)\n",
    "max_pnl"
   ]
  },
  {
   "cell_type": "code",
   "execution_count": 70,
   "id": "9ef1d123-aae4-4664-bd1f-4c2280f19968",
   "metadata": {},
   "outputs": [
    {
     "data": {
      "text/plain": [
       "-2288"
      ]
     },
     "execution_count": 70,
     "metadata": {},
     "output_type": "execute_result"
    }
   ],
   "source": [
    "mean_pnl = s.mean(mylist)\n",
    "mean_pnl"
   ]
  },
  {
   "cell_type": "code",
   "execution_count": 71,
   "id": "4dc39c22-0c87-4171-b040-c2a393ca5b68",
   "metadata": {},
   "outputs": [
    {
     "data": {
      "text/html": [
       "<div>\n",
       "<style scoped>\n",
       "    .dataframe tbody tr th:only-of-type {\n",
       "        vertical-align: middle;\n",
       "    }\n",
       "\n",
       "    .dataframe tbody tr th {\n",
       "        vertical-align: top;\n",
       "    }\n",
       "\n",
       "    .dataframe thead th {\n",
       "        text-align: right;\n",
       "    }\n",
       "</style>\n",
       "<table border=\"1\" class=\"dataframe\">\n",
       "  <thead>\n",
       "    <tr style=\"text-align: right;\">\n",
       "      <th></th>\n",
       "      <th>Date</th>\n",
       "      <th>Profit/Losses</th>\n",
       "    </tr>\n",
       "  </thead>\n",
       "  <tbody>\n",
       "  </tbody>\n",
       "</table>\n",
       "</div>"
      ],
      "text/plain": [
       "Empty DataFrame\n",
       "Columns: [Date, Profit/Losses]\n",
       "Index: []"
      ]
     },
     "execution_count": 71,
     "metadata": {},
     "output_type": "execute_result"
    }
   ],
   "source": []
  },
  {
   "cell_type": "code",
   "execution_count": 72,
   "id": "984e3b12-2a75-40f3-b2a3-ee79d02ed599",
   "metadata": {},
   "outputs": [],
   "source": [
    "df[\"Differences\"]=mylist"
   ]
  },
  {
   "cell_type": "code",
   "execution_count": 73,
   "id": "4040b400-8e27-4cf0-a054-35e960a9f197",
   "metadata": {},
   "outputs": [
    {
     "data": {
      "text/html": [
       "<div>\n",
       "<style scoped>\n",
       "    .dataframe tbody tr th:only-of-type {\n",
       "        vertical-align: middle;\n",
       "    }\n",
       "\n",
       "    .dataframe tbody tr th {\n",
       "        vertical-align: top;\n",
       "    }\n",
       "\n",
       "    .dataframe thead th {\n",
       "        text-align: right;\n",
       "    }\n",
       "</style>\n",
       "<table border=\"1\" class=\"dataframe\">\n",
       "  <thead>\n",
       "    <tr style=\"text-align: right;\">\n",
       "      <th></th>\n",
       "      <th>Date</th>\n",
       "      <th>Profit/Losses</th>\n",
       "      <th>Differences</th>\n",
       "    </tr>\n",
       "  </thead>\n",
       "  <tbody>\n",
       "    <tr>\n",
       "      <th>0</th>\n",
       "      <td>Jan-2010</td>\n",
       "      <td>867884</td>\n",
       "      <td>0</td>\n",
       "    </tr>\n",
       "    <tr>\n",
       "      <th>1</th>\n",
       "      <td>Feb-2010</td>\n",
       "      <td>984655</td>\n",
       "      <td>116771</td>\n",
       "    </tr>\n",
       "    <tr>\n",
       "      <th>2</th>\n",
       "      <td>Mar-2010</td>\n",
       "      <td>322013</td>\n",
       "      <td>-662642</td>\n",
       "    </tr>\n",
       "    <tr>\n",
       "      <th>3</th>\n",
       "      <td>Apr-2010</td>\n",
       "      <td>-69417</td>\n",
       "      <td>-391430</td>\n",
       "    </tr>\n",
       "    <tr>\n",
       "      <th>4</th>\n",
       "      <td>May-2010</td>\n",
       "      <td>310503</td>\n",
       "      <td>379920</td>\n",
       "    </tr>\n",
       "  </tbody>\n",
       "</table>\n",
       "</div>"
      ],
      "text/plain": [
       "       Date  Profit/Losses  Differences\n",
       "0  Jan-2010         867884            0\n",
       "1  Feb-2010         984655       116771\n",
       "2  Mar-2010         322013      -662642\n",
       "3  Apr-2010         -69417      -391430\n",
       "4  May-2010         310503       379920"
      ]
     },
     "execution_count": 73,
     "metadata": {},
     "output_type": "execute_result"
    }
   ],
   "source": [
    "df.head()"
   ]
  },
  {
   "cell_type": "code",
   "execution_count": 76,
   "id": "84d05b39-1eb4-41f3-9a90-1f6f0a01225e",
   "metadata": {},
   "outputs": [
    {
     "data": {
      "text/plain": [
       "25    Feb-2012\n",
       "Name: Date, dtype: object"
      ]
     },
     "execution_count": 76,
     "metadata": {},
     "output_type": "execute_result"
    }
   ],
   "source": [
    "df_max = df.loc[df[\"Differences\"] == max_pnl, \"Date\"]\n",
    "df_max"
   ]
  },
  {
   "cell_type": "code",
   "execution_count": 77,
   "id": "eeb1877e-baa8-4530-98be-a1a94e9904a5",
   "metadata": {},
   "outputs": [
    {
     "data": {
      "text/plain": [
       "44    Sep-2013\n",
       "Name: Date, dtype: object"
      ]
     },
     "execution_count": 77,
     "metadata": {},
     "output_type": "execute_result"
    }
   ],
   "source": [
    "df_min = df.loc[df[\"Differences\"] == min_pnl, \"Date\"]\n",
    "df_min"
   ]
  },
  {
   "cell_type": "code",
   "execution_count": 81,
   "id": "b97e0ac7-4a8f-42a5-9f72-3f1d4f55f4c3",
   "metadata": {},
   "outputs": [
    {
     "name": "stdout",
     "output_type": "stream",
     "text": [
      "----------------\n",
      "Total Months: 86\n"
     ]
    }
   ],
   "source": [
    "print(\"----------------\")\n",
    "print(f'Total Months: {total_months}')"
   ]
  },
  {
   "cell_type": "code",
   "execution_count": null,
   "id": "c53c8963-8e9b-4bd1-afc7-f7e6e7fbf034",
   "metadata": {},
   "outputs": [],
   "source": []
  },
  {
   "cell_type": "code",
   "execution_count": null,
   "id": "27c6e3f3-e326-49d3-a3c7-8c16337ff029",
   "metadata": {},
   "outputs": [],
   "source": []
  }
 ],
 "metadata": {
  "kernelspec": {
   "display_name": "Python 3",
   "language": "python",
   "name": "python3"
  },
  "language_info": {
   "codemirror_mode": {
    "name": "ipython",
    "version": 3
   },
   "file_extension": ".py",
   "mimetype": "text/x-python",
   "name": "python",
   "nbconvert_exporter": "python",
   "pygments_lexer": "ipython3",
   "version": "3.8.8"
  }
 },
 "nbformat": 4,
 "nbformat_minor": 5
}
